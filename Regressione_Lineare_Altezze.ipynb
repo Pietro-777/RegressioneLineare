{
 "cells": [
  {
   "cell_type": "markdown",
   "id": "20be5b49",
   "metadata": {
    "id": "20be5b49"
   },
   "source": [
    "# 📊 Regressione Lineare con il Dataset delle Altezze\n",
    "\n",
    "In questo notebook esploreremo un dataset contenente l'altezza dei padri (`fheight`) e dei figli (`sheight`), con l'obiettivo di costruire un modello di regressione lineare per prevedere l'altezza del figlio conoscendo quella del padre.\n",
    "\n",
    "---\n",
    "\n",
    "## Obiettivo\n",
    "\n",
    "Guidarti passo dopo passo attraverso il ciclo di vita di un progetto di *Machine Learning supervisionato*, includendo:\n",
    "- Esplorazione dei dati\n",
    "- Preprocessing\n",
    "- Addestramento del modello\n",
    "- Valutazione\n",
    "- Visualizzazione dei risultati\n"
   ]
  },
  {
   "cell_type": "markdown",
   "id": "77e4c836",
   "metadata": {
    "id": "77e4c836"
   },
   "source": [
    "## 🔍 1. Esplorazione del dataset"
   ]
  },
  {
   "cell_type": "markdown",
   "id": "29744039",
   "metadata": {
    "id": "29744039"
   },
   "source": [
    "### ✏️ Esercizio 1.1\n",
    "Carica il dataset `pearson_dataset.csv` e stampa le prime 5 righe per esplorare la struttura dei dati.\n"
   ]
  },
  {
   "cell_type": "code",
   "execution_count": null,
   "id": "PPMDGTVy_Mbp",
   "metadata": {
    "id": "PPMDGTVy_Mbp"
   },
   "outputs": [
    {
     "ename": "",
     "evalue": "",
     "output_type": "error",
     "traceback": [
      "\u001b[1;31mRunning cells with 'virtual1 (Python 3.12.7)' requires the ipykernel package.\n",
      "\u001b[1;31mInstall 'ipykernel' into the Python environment. \n",
      "\u001b[1;31mCommand: 'c:/Users/Utente/Desktop/RegressioneLineare/virtual1/Scripts/python.exe -m pip install ipykernel -U --force-reinstall'"
     ]
    }
   ],
   "source": [
    "# Qui faccio l'esercizio 1.1\n",
    "\n",
    "import pandas as pd \n",
    "\n",
    "dataframe = pd.read_csv(\"pearson_dataset.csv\")\n",
    "\n",
    "dataframe.head()\n"
   ]
  },
  {
   "cell_type": "markdown",
   "id": "05171f16",
   "metadata": {
    "id": "05171f16"
   },
   "source": [
    "### ✏️ Esercizio 1.2\n",
    "Calcola media, mediana e deviazione standard delle due colonne `fheight` e `sheight`.\n"
   ]
  },
  {
   "cell_type": "code",
   "execution_count": null,
   "id": "NEZIWloG_Pca",
   "metadata": {
    "id": "NEZIWloG_Pca"
   },
   "outputs": [
    {
     "ename": "",
     "evalue": "",
     "output_type": "error",
     "traceback": [
      "\u001b[1;31mRunning cells with 'virtual1 (Python 3.12.7)' requires the ipykernel package.\n",
      "\u001b[1;31mInstall 'ipykernel' into the Python environment. \n",
      "\u001b[1;31mCommand: 'c:/Users/Utente/Desktop/RegressioneLineare/virtual1/Scripts/python.exe -m pip install ipykernel -U --force-reinstall'"
     ]
    }
   ],
   "source": [
    "# Qui esercizio 1.\n",
    "\n",
    "\n",
    "fheight = dataframe[[\"fheight\"]]\n",
    "sheight = dataframe[[\"sheight\"]]\n",
    "\n",
    "\n",
    "mediana_f = fheight.median()\n",
    "media_f = fheight.mean()\n",
    "mediana_s = sheight.median()\n",
    "media_s = sheight.mean()\n",
    "std_f = fheight.std()\n",
    "std_s = sheight.std()\n",
    "\n",
    "\n",
    "print(\"Media altezza genitori:\\n\", media_f[0])\n",
    "print(\"Mediana altezza genitori:\\n\", mediana_f[0])\n",
    "print(\"Media altezza figli:\\n\", media_s[0])\n",
    "print(\"Mediana altezza figli:\\n\", mediana_s[0])\n",
    "print(\"Deviazione standard genitori:\\n\", std_f[0])\n",
    "print(\"Deviazione standard figli:\\n\", std_s[0])"
   ]
  },
  {
   "cell_type": "markdown",
   "id": "0f2d56aa",
   "metadata": {
    "id": "0f2d56aa"
   },
   "source": [
    "### ✏️ Esercizio 1.3\n",
    "Invoca la funzione per disegnare uno scatterplot con `fheight` sull'asse X e `sheight` sull'asse Y per visualizzare la relazione tra le due variabili.\n",
    "\n",
    "\n"
   ]
  },
  {
   "cell_type": "code",
   "execution_count": null,
   "id": "4qTBIKPw_fbi",
   "metadata": {
    "id": "4qTBIKPw_fbi"
   },
   "outputs": [],
   "source": [
    "import matplotlib.pyplot as plt\n",
    "\n",
    "def plot_scatter(df, x_col, y_col, x_label=None, y_label=None, title=None):\n",
    "    \"\"\"\n",
    "    Crea uno scatter plot generico tra due colonne di un DataFrame.\n",
    "\n",
    "    Parametri:\n",
    "    - df: pandas DataFrame contenente i dati\n",
    "    - x_col: nome della colonna da usare sull'asse X\n",
    "    - y_col: nome della colonna da usare sull'asse Y\n",
    "    - x_label: etichetta asse X (opzionale)\n",
    "    - y_label: etichetta asse Y (opzionale)\n",
    "    - title: titolo del grafico (opzionale)\n",
    "    \"\"\"\n",
    "    plt.figure(figsize=(8, 5))\n",
    "    plt.scatter(df[x_col], df[y_col], alpha=0.7)\n",
    "    plt.xlabel(x_label if x_label else x_col)\n",
    "    plt.ylabel(y_label if y_label else y_col)\n",
    "    plt.title(title if title else f\"{y_col} vs {x_col}\")\n",
    "    plt.grid(True)\n",
    "    plt.show()\n",
    "\n",
    "# Esempio d'uso\n",
    "plot_scatter(dataframe, \"fheight\", \"sheight\", \"Altezza del padre\", \"Altezza del figlio\", \"Relazione tra altezze\")"
   ]
  },
  {
   "cell_type": "markdown",
   "id": "2c3cc505",
   "metadata": {
    "id": "2c3cc505"
   },
   "source": [
    "## 🧹 2. Preprocessing dei dati"
   ]
  },
  {
   "cell_type": "markdown",
   "id": "511b76cd",
   "metadata": {
    "id": "511b76cd"
   },
   "source": [
    "### ✏️ Esercizio 2.1\n",
    "Verifica se ci sono valori nulli nel dataset.\n"
   ]
  },
  {
   "cell_type": "code",
   "execution_count": null,
   "id": "YayQsgBI_mMP",
   "metadata": {
    "id": "YayQsgBI_mMP"
   },
   "outputs": [],
   "source": [
    "# Esercizio 2.1\n",
    "dataframe = pd.read_csv(\"pearson_dataset.csv\")\n",
    "plt.figure(figsize=(8,6))\n",
    "plt.boxplot(dataframe.values, vert=False, patch_artist=True)\n",
    "\n",
    "# Aggiungiamo le etichette delle colonne \n",
    "plt.yticks(range(1,len(dataframe.columns)+1),dataframe.columns)\n",
    "\n",
    "#Titolo e griglia \n",
    "plt.title(\"Box Plot Orizzontale delle Colonne\")\n",
    "plt.grid(axis=\"x\",linestyle=\"--\", alpha=0.7)\n",
    "\n",
    "#mostriamo il plot \n",
    "plt.show()"
   ]
  },
  {
   "cell_type": "markdown",
   "id": "e198316a",
   "metadata": {},
   "source": [
    "# Spiegazione Boxplot"
   ]
  },
  {
   "cell_type": "markdown",
   "id": "53bc0158",
   "metadata": {
    "id": "53bc0158"
   },
   "source": [
    "### ✏️ Esercizio 2.2\n",
    "Standardizza o normalizza i dati (opzionale) per sperimentare come cambiano i risultati.\n"
   ]
  },
  {
   "cell_type": "code",
   "execution_count": null,
   "id": "zKGuFD-b_oe-",
   "metadata": {
    "id": "zKGuFD-b_oe-"
   },
   "outputs": [
    {
     "ename": "",
     "evalue": "",
     "output_type": "error",
     "traceback": [
      "\u001b[1;31mRunning cells with 'virtual1 (Python 3.12.7)' requires the ipykernel package.\n",
      "\u001b[1;31mInstall 'ipykernel' into the Python environment. \n",
      "\u001b[1;31mCommand: 'c:/Users/Utente/Desktop/RegressioneLineare/virtual1/Scripts/python.exe -m pip install ipykernel -U --force-reinstall'"
     ]
    },
    {
     "ename": "",
     "evalue": "",
     "output_type": "error",
     "traceback": [
      "\u001b[1;31mRunning cells with 'virtual1 (Python 3.12.7)' requires the ipykernel package.\n",
      "\u001b[1;31mInstall 'ipykernel' into the Python environment. \n",
      "\u001b[1;31mCommand: 'c:/Users/Utente/Desktop/RegressioneLineare/virtual1/Scripts/python.exe -m pip install ipykernel -U --force-reinstall'"
     ]
    },
    {
     "ename": "",
     "evalue": "",
     "output_type": "error",
     "traceback": [
      "\u001b[1;31mRunning cells with 'virtual1 (Python 3.12.7)' requires the ipykernel package.\n",
      "\u001b[1;31mInstall 'ipykernel' into the Python environment. \n",
      "\u001b[1;31mCommand: 'c:/Users/Utente/Desktop/RegressioneLineare/virtual1/Scripts/python.exe -m pip install ipykernel -U --force-reinstall'"
     ]
    },
    {
     "ename": "",
     "evalue": "",
     "output_type": "error",
     "traceback": [
      "\u001b[1;31mRunning cells with 'virtual1 (Python 3.12.7)' requires the ipykernel package.\n",
      "\u001b[1;31mInstall 'ipykernel' into the Python environment. \n",
      "\u001b[1;31mCommand: 'c:/Users/Utente/Desktop/RegressioneLineare/virtual1/Scripts/python.exe -m pip install ipykernel -U --force-reinstall'"
     ]
    },
    {
     "ename": "",
     "evalue": "",
     "output_type": "error",
     "traceback": [
      "\u001b[1;31mRunning cells with 'virtual1 (Python 3.12.7)' requires the ipykernel package.\n",
      "\u001b[1;31mInstall 'ipykernel' into the Python environment. \n",
      "\u001b[1;31mCommand: 'c:/Users/Utente/Desktop/RegressioneLineare/virtual1/Scripts/python.exe -m pip install ipykernel -U --force-reinstall'"
     ]
    }
   ],
   "source": [
    "# Esercizio 2.2\n",
    "from sklearn.preprocessing import MinMaxScaler\n",
    "scaler = MinMaxScaler()\n",
    "scaler.fit(dataframe)\n",
    "print(scaler.data_min_)\n",
    "print(scaler.data_max_)\n",
    "numpy_array = scaler.transform(dataframe)\n",
    "dataframe_scaled = pd.DataFrame(numpy_array, columns = dataframe.columns)\n",
    "dataframe_scaled.head()\n",
    "dataframe_scaled.plot.kde()\n",
    "plt.figure(figsize=(8,6))\n",
    "plt.boxplot(dataframe_scaled.values, vert=False, patch_artist=True)\n",
    "plt.yticks(range(1,len(dataframe_scaled.columns) + 1), dataframe_scaled.columns)\n",
    "plt.title(\"Box Plot Orizzontale delle Colonne\")\n",
    "plt.grid(axis=\"x\", linestyle=\"--\" , alpha=0.7)\n",
    "plt.show()"
   ]
  },
  {
   "cell_type": "code",
   "execution_count": null,
   "id": "8df91cd5",
   "metadata": {},
   "outputs": [],
   "source": []
  },
  {
   "cell_type": "markdown",
   "id": "18d92c61",
   "metadata": {
    "id": "18d92c61"
   },
   "source": [
    "## 🤖 3. Creazione del modello"
   ]
  },
  {
   "cell_type": "markdown",
   "id": "e6918d26",
   "metadata": {
    "id": "e6918d26"
   },
   "source": [
    "### ✏️ Esercizio 3.1\n",
    "Dividi il dataset in un training set (80%) e un test set (20%).\n"
   ]
  },
  {
   "cell_type": "code",
   "execution_count": null,
   "id": "V9RbdaGr_qTC",
   "metadata": {
    "id": "V9RbdaGr_qTC"
   },
   "outputs": [],
   "source": [
    "# Esercizio 3.1\n",
    "# 1 - carichiamo i dataset\n",
    "# 2 - splittiamo dati di train e di test\n",
    "# 3 - facciamo il preprocessing\n",
    "#  3a -> facciamo la fit sui dati di train \n",
    "#  3b -> facciamo la transform sui dati di test e di train\n",
    "# 4 - creiamo il modello di regressione lineare \n",
    "# 5 - fit(addestriamo il modello)\n",
    "# 6 - facciamo la fase di test (calcolare l'mse sui dati di test)\n",
    "\n",
    "from sklearn.model_selection import train_test_split\n",
    "from sklearn.linear_model import LinearRegression\n",
    "from sklearn.metrics import mean_squared_error, root_mean_squared_error\n",
    "\n",
    "#train_test_split mi restituisce 4 variabili: x_train, x_test, y_train, t_test purchè io gli passi come argomenti i dati di input e i dati di output\n",
    "\n",
    "x = dataframe.drop(columns=['sheight']) #in X ci sarà solo la colonna dell'altezza dei padri\n",
    "y = dataframe['sheight'] # in y ci sarà la nostra colonna target\n",
    "\n",
    "x_train,x_test,y_train, y_test = train_test_split(x,y,test_size = 0.2)\n",
    "\n",
    "print(x_train.shape)\n",
    "print(x_test.shape)\n",
    "\n",
    "#Normalizzazione dei dati\n",
    "scaler = MinMaxScaler()\n",
    "scaler.fit(x_train)\n",
    "x_train = scaler.transform(x_train)\n",
    "x_test = scaler.transform(x_test)\n",
    "\n",
    "model = LinearRegression()\n",
    "model.fit(x_train,y_train)\n",
    "\n",
    "print(\"Intercetta\", model.intercept_)\n",
    "print(\"Coefficente angolare\", model.coef_)\n",
    "\n",
    "# Fase di test\n",
    "y_pred = predictions = model.predict(x_test)\n",
    "mse = root_mean_squared_error(y_test,y_pred)\n",
    "print(mse)"
   ]
  },
  {
   "cell_type": "markdown",
   "id": "34df7e62",
   "metadata": {
    "id": "34df7e62"
   },
   "source": [
    "### ✏️ Esercizio 3.2\n",
    "Allena un modello di regressione lineare usando i dati di training.\n"
   ]
  },
  {
   "cell_type": "code",
   "execution_count": null,
   "id": "1PxOr0iS_swM",
   "metadata": {
    "id": "1PxOr0iS_swM"
   },
   "outputs": [],
   "source": [
    "# Esercizio 3.2\n",
    "import numpy as np\n",
    "x_plot = np.linspace(dataframe['fheight'].min(),dataframe['fheight'].max(),100).reshape(-1,1) # partendo\n",
    "# da una lista monodimensionale, crea un vettore colonna in cui la dimensione II colonna è 1 e la I 100\n",
    "y_plot = model.predict(x_plot)\n",
    "print(x.shape)\n",
    "\n",
    "def plot_scatter_with_line(dataframe,x_col,y_col,model,x_label=None,y_label=None,title=None):\n",
    "    plt.figure(figsize=(8,5))\n",
    "    plt.scatter(dataframe[x_col], dataframe_col[y_col], alpha=0.7)\n",
    "    plt.plot(x_plot,y_plot,color=\"red\", label=\"Retta di regressione\")\n",
    "    plt.xlabel(x_label if x_label else x_col)\n",
    "    plt.xlabel(y_label if y_label else y_col)\n",
    "    plt.title(title if title else f\"{y_col} vs {x_col}\")\n",
    "    plt.savefig(\"retta.png\")\n",
    "    plt.grid(True)\n",
    "    plt.show()\n",
    "plot_scatter_with_line(dataframe,\"fheight\",\"sheight\",model,\"Altezza del padre\", \"Altezza del figlio\", \"Relazione tra altezze\")"
   ]
  },
  {
   "cell_type": "markdown",
   "id": "f5b04b42",
   "metadata": {
    "id": "f5b04b42"
   },
   "source": [
    "### ✏️ Esercizio 3.3\n",
    "Visualizza la retta di regressione sopra il grafico scatter.\n",
    "\n",
    "👇 Ti diamo qui un esempio di funzione da utilizzare per questo tipo di visualizzazione:\n"
   ]
  },
  {
   "cell_type": "code",
   "execution_count": null,
   "id": "3cbeb23f",
   "metadata": {
    "id": "3cbeb23f"
   },
   "outputs": [
    {
     "ename": "",
     "evalue": "",
     "output_type": "error",
     "traceback": [
      "\u001b[1;31mRunning cells with 'virtual1 (Python 3.12.7)' requires the ipykernel package.\n",
      "\u001b[1;31mInstall 'ipykernel' into the Python environment. \n",
      "\u001b[1;31mCommand: 'c:/Users/Utente/Desktop/RegressioneLineare/virtual1/Scripts/python.exe -m pip install ipykernel -U --force-reinstall'"
     ]
    }
   ],
   "source": [
    "import matplotlib.pyplot as plt\n",
    "import numpy as np\n",
    "\n",
    "def plot_regression_line(x, y, model):\n",
    "    plt.figure(figsize=(8, 5))\n",
    "    plt.scatter(x, y, color='blue', label='Dati reali')\n",
    "    predicted = model.predict(np.array(x).reshape(-1, 1))\n",
    "    plt.plot(x, predicted, color='red', label='Retta di regressione')\n",
    "    plt.xlabel(\"Altezza del padre (fheight)\")\n",
    "    plt.ylabel(\"Altezza del figlio (sheight)\")\n",
    "    plt.title(\"Regressione Lineare\")\n",
    "    plt.legend()\n",
    "    plt.grid(True)\n",
    "    plt.show()"
   ]
  },
  {
   "cell_type": "markdown",
   "id": "21e6808b",
   "metadata": {
    "id": "21e6808b"
   },
   "source": [
    "## 📏 4. Valutazione del modello"
   ]
  },
  {
   "cell_type": "markdown",
   "id": "2f711044",
   "metadata": {
    "id": "2f711044"
   },
   "source": [
    "### ✏️ Esercizio 4.1\n",
    "Calcola l’MSE (Mean Squared Error) e R² sul test set per valutare le performance del modello.\n"
   ]
  },
  {
   "cell_type": "code",
   "execution_count": null,
   "id": "OwTM2FiF_xas",
   "metadata": {
    "id": "OwTM2FiF_xas"
   },
   "outputs": [],
   "source": [
    "# Esercizio 4.1"
   ]
  },
  {
   "cell_type": "markdown",
   "id": "9b03c17c",
   "metadata": {
    "id": "9b03c17c"
   },
   "source": [
    "### ✏️ Esercizio 4.2\n",
    "Usa il modello per prevedere l’altezza di un figlio dato un valore ipotetico di altezza del padre (es. 70 pollici).\n"
   ]
  },
  {
   "cell_type": "code",
   "execution_count": null,
   "id": "TJuxVr0F_1kJ",
   "metadata": {
    "id": "TJuxVr0F_1kJ"
   },
   "outputs": [],
   "source": [
    "# Esercizio 4.2"
   ]
  },
  {
   "cell_type": "markdown",
   "id": "29cbf672",
   "metadata": {
    "id": "29cbf672"
   },
   "source": [
    "## 🚀 5. Pezzi finali"
   ]
  },
  {
   "cell_type": "markdown",
   "id": "bd28b477",
   "metadata": {
    "id": "bd28b477"
   },
   "source": [
    "### ✏️ Esercizio 5.1\n",
    "Aggiungi del rumore casuale ai dati e osserva come cambiano i risultati della regressione.\n"
   ]
  },
  {
   "cell_type": "code",
   "execution_count": null,
   "id": "sxGRb89O_3wZ",
   "metadata": {
    "id": "sxGRb89O_3wZ"
   },
   "outputs": [],
   "source": [
    "# Esercizio 5.1"
   ]
  },
  {
   "cell_type": "markdown",
   "id": "13d9eed1",
   "metadata": {
    "id": "13d9eed1"
   },
   "source": [
    "### ✏️ Esercizio 5.2\n",
    "Crea una funzione che prende in input l’altezza del padre da tastiera e restituisce la previsione dell’altezza del figlio.\n"
   ]
  },
  {
   "cell_type": "code",
   "execution_count": null,
   "id": "66Ba7B4R_5ma",
   "metadata": {
    "id": "66Ba7B4R_5ma"
   },
   "outputs": [],
   "source": [
    "# Esercizio 5.2"
   ]
  },
  {
   "cell_type": "code",
   "execution_count": null,
   "id": "884c12e2-3e60-466d-818b-7e9a40a6f4f8",
   "metadata": {},
   "outputs": [],
   "source": []
  },
  {
   "cell_type": "code",
   "execution_count": null,
   "id": "366a365b-eb87-4529-b9ba-23cec7fd49d5",
   "metadata": {},
   "outputs": [],
   "source": []
  },
  {
   "cell_type": "code",
   "execution_count": null,
   "id": "5eca8eb1-4c1e-4b0e-8251-014128729957",
   "metadata": {},
   "outputs": [],
   "source": []
  },
  {
   "cell_type": "code",
   "execution_count": null,
   "id": "e15c7bb9-c649-4175-aca4-5712b929bd63",
   "metadata": {},
   "outputs": [],
   "source": []
  },
  {
   "cell_type": "code",
   "execution_count": null,
   "id": "2c78bf2a-a7c6-45a1-adf8-56fb71ad41f6",
   "metadata": {},
   "outputs": [],
   "source": []
  },
  {
   "cell_type": "code",
   "execution_count": null,
   "id": "cc74d5f5-aa7b-4dbf-b757-3087f1ca1f50",
   "metadata": {},
   "outputs": [],
   "source": []
  }
 ],
 "metadata": {
  "colab": {
   "provenance": []
  },
  "kernelspec": {
   "display_name": "virtual1",
   "language": "python",
   "name": "python3"
  },
  "language_info": {
   "codemirror_mode": {
    "name": "ipython",
    "version": 3
   },
   "file_extension": ".py",
   "mimetype": "text/x-python",
   "name": "python",
   "nbconvert_exporter": "python",
   "pygments_lexer": "ipython3",
   "version": "3.12.7"
  }
 },
 "nbformat": 4,
 "nbformat_minor": 5
}
